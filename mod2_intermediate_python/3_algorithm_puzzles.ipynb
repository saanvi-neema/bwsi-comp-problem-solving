{
 "cells": [
  {
   "cell_type": "markdown",
   "metadata": {},
   "source": [
    "# Algorithm Puzzles\n",
    "Below are some programming puzzles. Some of these are classic introductions to algorithmic thinking. All of them can be done in one to two dozen lines of code with python built-ins and loops. If you'd like to give yourself an additional challenge, try to account for kinds of inputs that aren't set out in the examples. "
   ]
  },
  {
   "cell_type": "markdown",
   "metadata": {},
   "source": [
    "## Longest Palidrome Substring"
   ]
  },
  {
   "cell_type": "markdown",
   "metadata": {},
   "source": [
    "### Q1. Write a function that returns the longest palindrome substring from the input string.\n",
    "A palindrome is a string of characters that are the same backwards as they are forwards. For example, the word 'level' is a palindrome, and so is the number 131. The task below is not just to detect if a word is a palindrome, but to find the part of a word that has a palindrome. See examples below for clarification:\n",
    "```python\n",
    "# Example\n",
    "longest_palindrome('apple') # returns 'pp'\n",
    "longest_palindrome('epiphany') # returns 'pip'\n",
    "longest_palindrome('12345556778') #returns '555'\n",
    "```"
   ]
  },
  {
   "cell_type": "code",
   "execution_count": 3,
   "metadata": {},
   "outputs": [
    {
     "name": "stdout",
     "output_type": "stream",
     "text": [
      "pp\n",
      "pip\n",
      "555\n"
     ]
    }
   ],
   "source": [
    "# Write your function here!\n",
    "\n",
    "def expand(string, left, right):\n",
    "    # Expand as long as characters match and stay in bounds\n",
    "    while left >= 0 and right < len(string) and string[left] == string[right]:\n",
    "        left -= 1\n",
    "        right += 1\n",
    "    # Return the palindrome substring found\n",
    "    return string[left + 1:right]\n",
    "\n",
    "\n",
    "def longest_palindrome(string):\n",
    "    if not string:\n",
    "        return \"\"\n",
    "    \n",
    "    longest = \"\"\n",
    "    \n",
    "    for i in range(len(string)):\n",
    "        # Odd-length palindrome (centered at one character)\n",
    "        odd = expand(string, i, i)\n",
    "        # Even-length palindrome (centered between two characters)\n",
    "        even = expand(string, i, i + 1)\n",
    "        \n",
    "        # Pick the longer palindrome\n",
    "        if len(odd) > len(even):\n",
    "            longer = odd\n",
    "        else: \n",
    "            longer = even\n",
    "        \n",
    "        if len(longer) > len(longest):\n",
    "            longest = longer\n",
    "    \n",
    "    return longest\n",
    "\n",
    "print(longest_palindrome('apple')) # returns 'pp'\n",
    "print(longest_palindrome('epiphany')) # returns 'pip'\n",
    "print(longest_palindrome('12345556778')) #returns '555'"
   ]
  },
  {
   "cell_type": "markdown",
   "metadata": {},
   "source": [
    "## Roman Numeral to Integer"
   ]
  },
  {
   "cell_type": "markdown",
   "metadata": {},
   "source": [
    "### Q2. Write a function that converts a Roman numeral string into an integer.\n",
    "Roman numerals convert very easily into integers: I is 1, V is 5, and X is 10. String them together like XVI, and the number is 16. However, when the numeral I is *in front* of another numeral, it will subract from the next numeral in the sequence. So IV is 4, while VI is 6. Your task is to write a function to account for this property.\n",
    "```python\n",
    "# Example\n",
    "rom_to_int('IV') #returns 4\n",
    "rom_to_int('VI') #returns 6\n",
    "rom_to_int('XII') #returns 12\n",
    "rom_to_int('XXIX') #returns 29\n",
    "```"
   ]
  },
  {
   "cell_type": "code",
   "execution_count": 7,
   "metadata": {},
   "outputs": [
    {
     "name": "stdout",
     "output_type": "stream",
     "text": [
      "4\n",
      "6\n",
      "12\n",
      "29\n"
     ]
    }
   ],
   "source": [
    "# Write your function here!\n",
    "def rom_to_int(string) -> int:\n",
    "    sum = 0\n",
    "    i = 0\n",
    "    while i < len(string):\n",
    "        if string[i] == 'X':\n",
    "            sum += 10\n",
    "            i += 1\n",
    "        elif string[i] == 'V':\n",
    "            sum += 5\n",
    "            i += 1\n",
    "        elif string[i] == 'I':\n",
    "            if i < len(string) - 1:\n",
    "                if string[i + 1] == 'X':\n",
    "                    sum += 9\n",
    "                    i += 2  \n",
    "                elif string[i + 1] == 'V':\n",
    "                    sum += 4\n",
    "                    i += 2  \n",
    "                else:\n",
    "                    sum += 1\n",
    "                    i += 1\n",
    "            else:\n",
    "                sum += 1\n",
    "                i += 1\n",
    "        else:\n",
    "            i += 1\n",
    "    return sum\n",
    "\n",
    "print(rom_to_int('IV')) #returns 4\n",
    "print(rom_to_int('VI')) #returns 6\n",
    "print(rom_to_int('XII')) #returns 12\n",
    "print(rom_to_int('XXIX')) #returns 29\n"
   ]
  },
  {
   "cell_type": "markdown",
   "metadata": {},
   "source": [
    "## Pascal's Triangle"
   ]
  },
  {
   "cell_type": "markdown",
   "metadata": {},
   "source": [
    "### Q.3 Write a function that generates values from Pascal's triangle.\n",
    "Pascal's triangle is an expanding list of numbers.\n",
    "<p>\n",
    "<img src = \"https://upload.wikimedia.org/wikipedia/commons/0/0d/PascalTriangleAnimated2.gif\">\n",
    "</p>\n",
    "Notice that every value is the sum of the numbers above it! \n",
    "\n",
    "Pascal's triangle generates something called *binomial coefficients*, an essential element of probability and combinatorics. "
   ]
  },
  {
   "cell_type": "markdown",
   "metadata": {},
   "source": [
    "Here are some examples for you to test your code!\n",
    "```python\n",
    "# Example\n",
    "pasc_generation(1) #returns [[1],[1,1]]\n",
    "pasc_generation(4) #returns [[1],[1,1],[1,2,1],[1,3,3,1],[1,4,6,4,1]]\n",
    "```"
   ]
  },
  {
   "cell_type": "code",
   "execution_count": 10,
   "metadata": {},
   "outputs": [
    {
     "name": "stdout",
     "output_type": "stream",
     "text": [
      "[[1], [1, 1]]\n",
      "[[1], [1, 1], [1, 2, 1], [1, 3, 3, 1], [1, 4, 6, 4, 1]]\n"
     ]
    }
   ],
   "source": [
    "# Write you function here!\n",
    "def pasc_generation(columns) -> list:\n",
    "    triangle = [[1]]\n",
    "    for i in range(columns):\n",
    "        prev_row = triangle[-1]\n",
    "        new_row = [1]\n",
    "        for j in range(len(prev_row) - 1):\n",
    "            new_row.append(prev_row[j] + prev_row[j + 1])\n",
    "        new_row.append(1)  # last element is always 1\n",
    "        triangle.append(new_row)\n",
    "    return triangle\n",
    "\n",
    "print(pasc_generation(1)) #returns [[1],[1,1]]\n",
    "print(pasc_generation(4)) #returns [[1],[1,1],[1,2,1],[1,3,3,1],[1,4,6,4,1]])"
   ]
  },
  {
   "cell_type": "markdown",
   "metadata": {},
   "source": [
    "## "
   ]
  }
 ],
 "metadata": {
  "kernelspec": {
   "display_name": "base",
   "language": "python",
   "name": "python3"
  },
  "language_info": {
   "codemirror_mode": {
    "name": "ipython",
    "version": 3
   },
   "file_extension": ".py",
   "mimetype": "text/x-python",
   "name": "python",
   "nbconvert_exporter": "python",
   "pygments_lexer": "ipython3",
   "version": "3.12.7"
  }
 },
 "nbformat": 4,
 "nbformat_minor": 2
}
